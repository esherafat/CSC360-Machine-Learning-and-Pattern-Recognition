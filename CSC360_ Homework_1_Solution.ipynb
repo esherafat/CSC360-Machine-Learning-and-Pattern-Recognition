{
 "cells": [
  {
   "cell_type": "markdown",
   "metadata": {},
   "source": [
    "# CSC360: Homework 1_ Solution\n"
   ]
  },
  {
   "cell_type": "markdown",
   "metadata": {},
   "source": [
    "CSC360: Machine Learning and Pattern Recognition\n",
    "Instructor: Ellie Sherafat (sherafate@easternct.edu)\n",
    "\n",
    "---\n",
    "\n",
    "**Due**: Nov 12, 11:59 PM\n",
    "\n",
    "\n",
    "**How to submit**: Create a zip folder named \"Midterm_your name\". Include the `.ipynb` file with your answers plus its `.html` file as a backup. \n",
    "\n",
    "\n",
    "**Your questions**: \n",
    "\n",
    "1- If you have a question for me, post it under the \"Questions for the Professor\" forum. Any post is visible to your classmates, and they may benefit as well. \n",
    "\n",
    "2- Collaboration is allowed but everyone should submit individually\n",
    "\n",
    "\n",
    "**Important**:\n",
    "- The places that require your code answer are marked with `\"# YOUR CODE\"` comments.\n",
    "- Please do not procrastinate! Reach out to your study group member and start working on the questions as soon as you can.\n",
    "\n",
    "Good Luck!\n",
    "\n",
    "---\n",
    "\n",
    "## Name:Ellie\n",
    "\n",
    "---"
   ]
  },
  {
   "cell_type": "markdown",
   "metadata": {},
   "source": [
    "## 1) Balanced Accuracy [20 pts]\n",
    "Implement a function that calculates balanced accuracy (also called average-per-class-accuracy). Refer to the lecture 15, slides 18-19 for the formula. You can use any library or function, except the functions that directly calculate balanced accuracy.\n"
   ]
  },
  {
   "cell_type": "code",
   "execution_count": 1,
   "metadata": {},
   "outputs": [],
   "source": [
    "import numpy as np\n",
    "from sklearn.metrics import confusion_matrix\n",
    "\n",
    "def balanced_accuracy(y_true, y_predicted):\n",
    "    '''\n",
    "    # Calculate the confusion matrix values\n",
    "    tp = 0\n",
    "    tn = 0\n",
    "    fp = 0\n",
    "    fn = 0    \n",
    "    for i in range(len(y_true)):\n",
    "        if y_true[i] == 1 and y_predicted[i] == 1:\n",
    "            tp += 1\n",
    "        elif y_true[i] == 0 and y_predicted[i] == 0:\n",
    "            tn += 1\n",
    "        elif y_true[i] == 0 and y_predicted[i] == 1:\n",
    "            fp += 1\n",
    "        elif y_true[i] == 1 and y_predicted[i] == 0:\n",
    "            fn += 1\n",
    "    '''\n",
    "    # Get the confusion matrix values from sklearn\n",
    "    tn, fp, fn, tp = confusion_matrix(y_true, y_predicted).ravel()\n",
    "    \n",
    "    return 0.5*(tp/(tp+fn)+tn/(tn+fp))\n",
    "    # YOUR CODE\n",
    "    "
   ]
  },
  {
   "cell_type": "code",
   "execution_count": 2,
   "metadata": {},
   "outputs": [
    {
     "name": "stdout",
     "output_type": "stream",
     "text": [
      "Balanced accuracy using sklearn: 0.86%\n",
      "Balanced accuracy using my function: 0.86%\n"
     ]
    }
   ],
   "source": [
    "# RUN THIS CELL, BUT DO NOT MODIFY \n",
    "\n",
    "from sklearn.metrics import balanced_accuracy_score\n",
    "\n",
    "true_labels = np.array(21*[0] + 69*[1])\n",
    "predicted_labels = np.array(40*[0] + 50*[1])\n",
    " \n",
    "print('Balanced accuracy using sklearn: %.2f%%' % (balanced_accuracy_score(true_labels, predicted_labels)))\n",
    "print('Balanced accuracy using my function: %.2f%%' % (balanced_accuracy(true_labels, predicted_labels)))\n"
   ]
  },
  {
   "cell_type": "markdown",
   "metadata": {},
   "source": [
    "## 2) Receiver Operater Characteristic (ROC) [30 pts]\n",
    "In this section, you need to plot ROC curve and calculate the corresponding AUC. You are given a matrix of probabilities (`y_probabilities`) where a value in the first and second columns refers to probability that a corresponding data point belongs to class 0 and 1, respectively. \n",
    "\n",
    "Suppose that the positive label is 1 (`pos_label=1`). Therefore, if `y_probabilities` is \n",
    "\n",
    "```\n",
    "[[0.44001556 0.55998444]\n",
    " [0.69026364 0.30973636]\n",
    " [0.31814182 0.68185818]\n",
    " [0.56957726 0.43042274]\n",
    " [0.86339788 0.13660212]\n",
    " [0.56957726 0.43042274]\n",
    " [0.86339788 0.13660212]\n",
    " [0.44001556 0.55998444]\n",
    " [0.08899234 0.91100766]\n",
    " [0.50487831 0.49512169]\n",
    " [0.74306586 0.25693414]\n",
    "```\n",
    " \n",
    "then, the `y_score` array, which is an input of plot_roc_curve function, is expected to be \n",
    "\n",
    "`y_score = [0.5599..., 0.3097..., 0.6818..., 0.4304..., ...]`\n",
    "\n",
    "\n",
    "---\n",
    "\n",
    "1- Complete the `\"#YOUR CODE\"` sections at plot_roc_curve function to plot the ROC curve (refer to lecture 15, sildes 31-32).\n",
    "\n",
    "2- Explain what AUC is and calculate it using auc function in sklearn. \n",
    "**<br>AUC (Area Under Curve): It is a performance metric that shows the area under ROC curve. It ranges in value from 0 to 1. A classifier whose predictions are always wrong has an AUC of 0;one whose predictions are always correct has an AUC of 1; and a random classifier has AUC value about 0.5**"
   ]
  },
  {
   "cell_type": "code",
   "execution_count": 3,
   "metadata": {},
   "outputs": [
    {
     "name": "stdout",
     "output_type": "stream",
     "text": [
      "[[0.44001556 0.55998444]\n",
      " [0.69026364 0.30973636]\n",
      " [0.31814182 0.68185818]\n",
      " [0.56957726 0.43042274]\n",
      " [0.86339788 0.13660212]\n",
      " [0.56957726 0.43042274]\n",
      " [0.86339788 0.13660212]\n",
      " [0.44001556 0.55998444]\n",
      " [0.08899234 0.91100766]\n",
      " [0.50487831 0.49512169]]\n"
     ]
    }
   ],
   "source": [
    "# RUN THIS CELL, BUT DO NOT MODIFY \n",
    "\n",
    "from sklearn.datasets import load_iris\n",
    "from sklearn.model_selection import train_test_split\n",
    "from sklearn.linear_model import LogisticRegression\n",
    "\n",
    "iris = load_iris()\n",
    "X = iris.data\n",
    "y = iris.target\n",
    "X, y = X[:100, [1]], y[:100]\n",
    "\n",
    "X_train, X_test, y_train, y_test = \\\n",
    "    train_test_split(X, y, test_size=0.5, shuffle=True, random_state=0, stratify=y)\n",
    "\n",
    "model = LogisticRegression(solver='lbfgs', random_state=123)\n",
    "model.fit(X_train, y_train)\n",
    "; \n",
    "y_probabilities = model.predict_proba(X_test)\n",
    "\n",
    "print(y_probabilities[:10])"
   ]
  },
  {
   "cell_type": "code",
   "execution_count": 4,
   "metadata": {},
   "outputs": [],
   "source": [
    "import matplotlib.pyplot as plt\n",
    "import numpy as np\n",
    "\n",
    "def plot_roc_curve(y_true, y_score, pos_label=1, num_thresholds=200):\n",
    "\n",
    "    y_true_arr = np.array(y_true)\n",
    "    y_score_arr = np.array(y_score)\n",
    "    x_axis_values = []\n",
    "    y_axis_values = []\n",
    "    thresholds = np.linspace(0., 1., num_thresholds)\n",
    "\n",
    "    num_positives = np.sum(y_true == pos_label)\n",
    "    num_negatives = y_true.shape[0] - num_positives\n",
    "\n",
    "    for threshold in thresholds:\n",
    "        \n",
    "        # Hint: create a vector which its value is 1, if y_score >= threshold, otherwise its value is 0\n",
    "        binarized_scores = np.where(y_score >= threshold, pos_label, int(not pos_label))\n",
    "        # YOUR CODE\n",
    "        \n",
    "        positive_predictions = (binarized_scores == pos_label)\n",
    "        \n",
    "        true_positives = (y_true[positive_predictions]== pos_label).sum() # YOUR CODE\n",
    "        false_positives = (y_true[positive_predictions]!= pos_label).sum()# YOUR CODE\n",
    "        \n",
    "        x_axis_values.append(false_positives / float(num_negatives))\n",
    "        y_axis_values.append(true_positives / float(num_positives))\n",
    "\n",
    "    plt.step(x_axis_values, y_axis_values, where='post')\n",
    "    \n",
    "    plt.xlim([0., 1.01])\n",
    "    plt.ylim([0., 1.01])\n",
    "    plt.ylabel('True Positive Rate')\n",
    "    plt.xlabel('False Positive Rate')\n",
    "    \n",
    "    return None"
   ]
  },
  {
   "cell_type": "code",
   "execution_count": 5,
   "metadata": {},
   "outputs": [
    {
     "data": {
      "image/png": "[encoded data removed]",
      "text/plain": [
       "<Figure size 432x288 with 1 Axes>"
      ]
     },
     "metadata": {
      "needs_background": "light"
     },
     "output_type": "display_data"
    }
   ],
   "source": [
    "# RUN THIS CELL, BUT DO NOT MODIFY \n",
    "\n",
    "plot_roc_curve(y_test, y_probabilities[:, 1], pos_label=1)\n",
    "plt.show()"
   ]
  },
  {
   "cell_type": "code",
   "execution_count": 6,
   "metadata": {},
   "outputs": [
    {
     "name": "stdout",
     "output_type": "stream",
     "text": [
      "0.9047999999999999\n"
     ]
    }
   ],
   "source": [
    "# Calculate AUC\n",
    "\n",
    "# YOUR CODE\n",
    "from sklearn import metrics\n",
    "\n",
    "auc = metrics.roc_auc_score(y_test, y_probabilities[:, 1])\n",
    "print(auc)"
   ]
  },
  {
   "cell_type": "code",
   "execution_count": 7,
   "metadata": {},
   "outputs": [
    {
     "name": "stdout",
     "output_type": "stream",
     "text": [
      "AUC: 0.9047999999999999\n"
     ]
    }
   ],
   "source": [
    "from sklearn.metrics import roc_auc_score\n",
    "# Compute and print AUC score\n",
    "print(\"AUC: {}\".format(roc_auc_score(y_test, y_probabilities[:, 1])))\n",
    "\n",
    "# Calculate AUC"
   ]
  },
  {
   "cell_type": "markdown",
   "metadata": {},
   "source": [
    "## 3) Model Evaluation [5*10 pts]\n",
    "\n",
    "Run the cells in this section and answer the following questions:\n",
    "\n",
    "---\n",
    "\n",
    "1- How much will the CV accuracy change if you do not scale the data before modeling? <br>**CV Accuracy w|wo scaling: 0.919+/-0.033 | 0.961+/-0.031 --> The accuracy improved with the scaling**\n",
    "\n",
    "---\n",
    "\n",
    "2- What are the difference between the learning curve and the validation curve? <br>**Both curves show the training and validation performance scores (here accuracies) of an estimator (here knn classifier) on the y-axis. \n",
    "<br>A learning curve plots the score over varying numbers of training samples, while a validation curve plots the score over a varying hyper parameter. <br>The learning curve is a tool for finding out if an estimator would benefit from more data, or if the model is too simple. The validation curve is a tool for finding good hyper parameter settings.\n",
    "<br><br> In this section, the learning curve shows that the model would benefit from more data, since the accuracy for both training and validation sets increased. The validation curve shows 5 is the best value for K; in lower values there is the training and validation errors are not close and in larger values the scores start to decrease. Therefore, the value 5 would be the best value for hyperparameter K.**\n",
    "\n",
    "---\n",
    "\n",
    "3- Can we diagnose model overfitting/underfitting using the curves? How? \n",
    "<br>**Overfitting is when a model makes much better predictions on known data than unknown data (small training error, large testing error). Underfitting is when a model does not make good predictions on both known and unkown data (large training and test errors). <br><br>The model is not overfitted or underfitted since the model has high training and validation scores at the learning curve.**\n",
    "\n",
    "---\n",
    "\n",
    "4- How do we treat the overfitting/underfitting? **<br>Overfitting is when a model makes much better predictions on known data than unknown data (small training error, large testing error). A few ways of combatting overfitting are: simplify the model (often done by changing the hyperparameters), select a different model, use more training data, or gather better quality data. <br><br>Underfitting is when a model does not make good predictions on both known and unkown data (large training and test errors). We can combat underfitting with building more complex models. For example, in decision trees we can increase the tree depth or number of features.<br><br> In this section, choosing k=5 helps to avoid overfiting.**\n",
    "\n",
    "---\n",
    "\n",
    "5- Change the scoring metric in grid search from `accuracy` to `f1` and report the value. **<br>In most applications, f1 (harmonic mean of precision and recall) is a better metric to judge your model performance.**\n",
    "\n",
    "With scoring metric 'accuracy': \n",
    "<br>0.9694202898550724\n",
    "<br>{'kneighborsclassifier__n_neighbors': 5}\n",
    "<br>Test accuracy: 0.965\n",
    "\n",
    "With scoring metric 'f1': \n",
    "<br>0.9564099246736818\n",
    "<br>{'kneighborsclassifier__n_neighbors': 5}\n",
    "<br>Test accuracy: 0.965\n",
    "\n",
    "---"
   ]
  },
  {
   "cell_type": "code",
   "execution_count": 8,
   "metadata": {},
   "outputs": [
    {
     "data": {
      "text/html": [
       "<div>\n",
       "<style scoped>\n",
       "    .dataframe tbody tr th:only-of-type {\n",
       "        vertical-align: middle;\n",
       "    }\n",
       "\n",
       "    .dataframe tbody tr th {\n",
       "        vertical-align: top;\n",
       "    }\n",
       "\n",
       "    .dataframe thead th {\n",
       "        text-align: right;\n",
       "    }\n",
       "</style>\n",
       "<table border=\"1\" class=\"dataframe\">\n",
       "  <thead>\n",
       "    <tr style=\"text-align: right;\">\n",
       "      <th></th>\n",
       "      <th>0</th>\n",
       "      <th>1</th>\n",
       "      <th>2</th>\n",
       "      <th>3</th>\n",
       "      <th>4</th>\n",
       "      <th>5</th>\n",
       "      <th>6</th>\n",
       "      <th>7</th>\n",
       "      <th>8</th>\n",
       "      <th>9</th>\n",
       "      <th>...</th>\n",
       "      <th>22</th>\n",
       "      <th>23</th>\n",
       "      <th>24</th>\n",
       "      <th>25</th>\n",
       "      <th>26</th>\n",
       "      <th>27</th>\n",
       "      <th>28</th>\n",
       "      <th>29</th>\n",
       "      <th>30</th>\n",
       "      <th>31</th>\n",
       "    </tr>\n",
       "  </thead>\n",
       "  <tbody>\n",
       "    <tr>\n",
       "      <th>0</th>\n",
       "      <td>842302</td>\n",
       "      <td>M</td>\n",
       "      <td>17.99</td>\n",
       "      <td>10.38</td>\n",
       "      <td>122.80</td>\n",
       "      <td>1001.0</td>\n",
       "      <td>0.11840</td>\n",
       "      <td>0.27760</td>\n",
       "      <td>0.3001</td>\n",
       "      <td>0.14710</td>\n",
       "      <td>...</td>\n",
       "      <td>25.38</td>\n",
       "      <td>17.33</td>\n",
       "      <td>184.60</td>\n",
       "      <td>2019.0</td>\n",
       "      <td>0.1622</td>\n",
       "      <td>0.6656</td>\n",
       "      <td>0.7119</td>\n",
       "      <td>0.2654</td>\n",
       "      <td>0.4601</td>\n",
       "      <td>0.11890</td>\n",
       "    </tr>\n",
       "    <tr>\n",
       "      <th>1</th>\n",
       "      <td>842517</td>\n",
       "      <td>M</td>\n",
       "      <td>20.57</td>\n",
       "      <td>17.77</td>\n",
       "      <td>132.90</td>\n",
       "      <td>1326.0</td>\n",
       "      <td>0.08474</td>\n",
       "      <td>0.07864</td>\n",
       "      <td>0.0869</td>\n",
       "      <td>0.07017</td>\n",
       "      <td>...</td>\n",
       "      <td>24.99</td>\n",
       "      <td>23.41</td>\n",
       "      <td>158.80</td>\n",
       "      <td>1956.0</td>\n",
       "      <td>0.1238</td>\n",
       "      <td>0.1866</td>\n",
       "      <td>0.2416</td>\n",
       "      <td>0.1860</td>\n",
       "      <td>0.2750</td>\n",
       "      <td>0.08902</td>\n",
       "    </tr>\n",
       "    <tr>\n",
       "      <th>2</th>\n",
       "      <td>84300903</td>\n",
       "      <td>M</td>\n",
       "      <td>19.69</td>\n",
       "      <td>21.25</td>\n",
       "      <td>130.00</td>\n",
       "      <td>1203.0</td>\n",
       "      <td>0.10960</td>\n",
       "      <td>0.15990</td>\n",
       "      <td>0.1974</td>\n",
       "      <td>0.12790</td>\n",
       "      <td>...</td>\n",
       "      <td>23.57</td>\n",
       "      <td>25.53</td>\n",
       "      <td>152.50</td>\n",
       "      <td>1709.0</td>\n",
       "      <td>0.1444</td>\n",
       "      <td>0.4245</td>\n",
       "      <td>0.4504</td>\n",
       "      <td>0.2430</td>\n",
       "      <td>0.3613</td>\n",
       "      <td>0.08758</td>\n",
       "    </tr>\n",
       "    <tr>\n",
       "      <th>3</th>\n",
       "      <td>84348301</td>\n",
       "      <td>M</td>\n",
       "      <td>11.42</td>\n",
       "      <td>20.38</td>\n",
       "      <td>77.58</td>\n",
       "      <td>386.1</td>\n",
       "      <td>0.14250</td>\n",
       "      <td>0.28390</td>\n",
       "      <td>0.2414</td>\n",
       "      <td>0.10520</td>\n",
       "      <td>...</td>\n",
       "      <td>14.91</td>\n",
       "      <td>26.50</td>\n",
       "      <td>98.87</td>\n",
       "      <td>567.7</td>\n",
       "      <td>0.2098</td>\n",
       "      <td>0.8663</td>\n",
       "      <td>0.6869</td>\n",
       "      <td>0.2575</td>\n",
       "      <td>0.6638</td>\n",
       "      <td>0.17300</td>\n",
       "    </tr>\n",
       "    <tr>\n",
       "      <th>4</th>\n",
       "      <td>84358402</td>\n",
       "      <td>M</td>\n",
       "      <td>20.29</td>\n",
       "      <td>14.34</td>\n",
       "      <td>135.10</td>\n",
       "      <td>1297.0</td>\n",
       "      <td>0.10030</td>\n",
       "      <td>0.13280</td>\n",
       "      <td>0.1980</td>\n",
       "      <td>0.10430</td>\n",
       "      <td>...</td>\n",
       "      <td>22.54</td>\n",
       "      <td>16.67</td>\n",
       "      <td>152.20</td>\n",
       "      <td>1575.0</td>\n",
       "      <td>0.1374</td>\n",
       "      <td>0.2050</td>\n",
       "      <td>0.4000</td>\n",
       "      <td>0.1625</td>\n",
       "      <td>0.2364</td>\n",
       "      <td>0.07678</td>\n",
       "    </tr>\n",
       "  </tbody>\n",
       "</table>\n",
       "<p>5 rows × 32 columns</p>\n",
       "</div>"
      ],
      "text/plain": [
       "         0  1      2      3       4       5        6        7       8   \\\n",
       "0    842302  M  17.99  10.38  122.80  1001.0  0.11840  0.27760  0.3001   \n",
       "1    842517  M  20.57  17.77  132.90  1326.0  0.08474  0.07864  0.0869   \n",
       "2  84300903  M  19.69  21.25  130.00  1203.0  0.10960  0.15990  0.1974   \n",
       "3  84348301  M  11.42  20.38   77.58   386.1  0.14250  0.28390  0.2414   \n",
       "4  84358402  M  20.29  14.34  135.10  1297.0  0.10030  0.13280  0.1980   \n",
       "\n",
       "        9   ...     22     23      24      25      26      27      28      29  \\\n",
       "0  0.14710  ...  25.38  17.33  184.60  2019.0  0.1622  0.6656  0.7119  0.2654   \n",
       "1  0.07017  ...  24.99  23.41  158.80  1956.0  0.1238  0.1866  0.2416  0.1860   \n",
       "2  0.12790  ...  23.57  25.53  152.50  1709.0  0.1444  0.4245  0.4504  0.2430   \n",
       "3  0.10520  ...  14.91  26.50   98.87   567.7  0.2098  0.8663  0.6869  0.2575   \n",
       "4  0.10430  ...  22.54  16.67  152.20  1575.0  0.1374  0.2050  0.4000  0.1625   \n",
       "\n",
       "       30       31  \n",
       "0  0.4601  0.11890  \n",
       "1  0.2750  0.08902  \n",
       "2  0.3613  0.08758  \n",
       "3  0.6638  0.17300  \n",
       "4  0.2364  0.07678  \n",
       "\n",
       "[5 rows x 32 columns]"
      ]
     },
     "execution_count": 8,
     "metadata": {},
     "output_type": "execute_result"
    }
   ],
   "source": [
    "import pandas as pd\n",
    "\n",
    "df = pd.read_csv('https://archive.ics.uci.edu/ml/'\n",
    "                 'machine-learning-databases'\n",
    "                 '/breast-cancer-wisconsin/wdbc.data', header=None)\n",
    "\n",
    "df.head()"
   ]
  },
  {
   "cell_type": "code",
   "execution_count": 9,
   "metadata": {},
   "outputs": [
    {
     "data": {
      "text/plain": [
       "(569, 32)"
      ]
     },
     "execution_count": 9,
     "metadata": {},
     "output_type": "execute_result"
    }
   ],
   "source": [
    "df.shape"
   ]
  },
  {
   "cell_type": "code",
   "execution_count": 10,
   "metadata": {},
   "outputs": [
    {
     "name": "stdout",
     "output_type": "stream",
     "text": [
      "['B' 'M']\n",
      "[1 0]\n"
     ]
    }
   ],
   "source": [
    "# Transform the class lables from string format to integers \n",
    "\n",
    "from sklearn.preprocessing import LabelEncoder\n",
    "\n",
    "X = df.loc[:, 2:].values\n",
    "y = df.loc[:, 1].values\n",
    "\n",
    "le = LabelEncoder()\n",
    "y = le.fit_transform(y)\n",
    "print(le.classes_)\n",
    "print(le.transform(['M', 'B']))"
   ]
  },
  {
   "cell_type": "code",
   "execution_count": 11,
   "metadata": {},
   "outputs": [],
   "source": [
    "# Split the data into 80% training data and 20% test data, using a stratified split\n",
    "\n",
    "from sklearn.model_selection import train_test_split\n",
    "\n",
    "X_train, X_test, y_train, y_test = train_test_split(X, y, test_size=0.2, stratify=y, random_state=1)"
   ]
  },
  {
   "cell_type": "code",
   "execution_count": 12,
   "metadata": {},
   "outputs": [
    {
     "name": "stdout",
     "output_type": "stream",
     "text": [
      "Test Accuracy: 0.956\n"
     ]
    }
   ],
   "source": [
    "# Define a pipeline\n",
    "\n",
    "from sklearn.preprocessing import StandardScaler\n",
    "from sklearn.neighbors import KNeighborsClassifier\n",
    "from sklearn.pipeline import make_pipeline\n",
    "\n",
    "\n",
    "pipe_knn = make_pipeline(StandardScaler(),\n",
    "                        KNeighborsClassifier(n_neighbors=10))\n",
    "\n",
    "pipe_knn.fit(X_train, y_train)\n",
    "y_pred = pipe_knn.predict(X_test)\n",
    "print('Test Accuracy: %.3f' % pipe_knn.score(X_test, y_test))"
   ]
  },
  {
   "cell_type": "code",
   "execution_count": 13,
   "metadata": {},
   "outputs": [
    {
     "name": "stdout",
     "output_type": "stream",
     "text": [
      "CV accuracy scores: [0.91304348 0.97826087 0.95652174 0.95652174 0.93478261 0.91111111\n",
      " 0.97777778 0.97777778 1.         1.        ]\n",
      "CV accuracy: 0.961 +/- 0.031\n"
     ]
    }
   ],
   "source": [
    "# Using k-fold cross validation to assess model performance\n",
    "\n",
    "import numpy as np\n",
    "from sklearn.model_selection import cross_val_score\n",
    "\n",
    "scores = cross_val_score(estimator=pipe_knn,\n",
    "                         X=X_train,\n",
    "                         y=y_train,\n",
    "                         cv=10,\n",
    "                         n_jobs=1)\n",
    "print('CV accuracy scores: %s' % scores)\n",
    "print('CV accuracy: %.3f +/- %.3f' % (np.mean(scores), np.std(scores)))"
   ]
  },
  {
   "cell_type": "code",
   "execution_count": 14,
   "metadata": {},
   "outputs": [
    {
     "data": {
      "image/png": "[encoded data removed]",
      "text/plain": [
       "<Figure size 432x288 with 1 Axes>"
      ]
     },
     "metadata": {
      "needs_background": "light"
     },
     "output_type": "display_data"
    }
   ],
   "source": [
    "# Learning Curve\n",
    "import matplotlib.pyplot as plt\n",
    "from sklearn.model_selection import learning_curve\n",
    "\n",
    "train_sizes, train_scores, test_scores =\\\n",
    "                learning_curve(estimator=pipe_knn,\n",
    "                               X=X_train,\n",
    "                               y=y_train,\n",
    "                               train_sizes=np.linspace(0.1, 1.0, 10),\n",
    "                               cv=10,\n",
    "                               n_jobs=1)\n",
    "train_mean = np.mean(train_scores, axis=1)\n",
    "train_std = np.std(train_scores, axis=1)\n",
    "test_mean = np.mean(test_scores, axis=1)\n",
    "test_std = np.std(test_scores, axis=1)\n",
    "\n",
    "plt.plot(train_sizes, train_mean,\n",
    "         color='darkorange', marker='o',\n",
    "         markersize=5, label='Training accuracy')\n",
    "\n",
    "plt.fill_between(train_sizes,\n",
    "                 train_mean + train_std,\n",
    "                 train_mean - train_std,\n",
    "                 alpha=0.15, color='darkorange')\n",
    "\n",
    "plt.plot(train_sizes, test_mean,\n",
    "         color='navy', linestyle='--',\n",
    "         marker='s', markersize=5,\n",
    "         label='Validation accuracy')\n",
    "\n",
    "plt.fill_between(train_sizes,\n",
    "                 test_mean + test_std,\n",
    "                 test_mean - test_std,\n",
    "                 alpha=0.15, color='navy')\n",
    "\n",
    "plt.grid()\n",
    "plt.xlabel('Number of training examples')\n",
    "plt.ylabel('Accuracy')\n",
    "plt.legend(loc='lower right')\n",
    "plt.ylim([0.8, 1.03])\n",
    "plt.tight_layout()"
   ]
  },
  {
   "cell_type": "code",
   "execution_count": 15,
   "metadata": {},
   "outputs": [
    {
     "data": {
      "image/png": "[encoded data removed]",
      "text/plain": [
       "<Figure size 432x288 with 1 Axes>"
      ]
     },
     "metadata": {
      "needs_background": "light"
     },
     "output_type": "display_data"
    }
   ],
   "source": [
    "# Validation curve\n",
    "from sklearn.model_selection import validation_curve\n",
    "\n",
    "\n",
    "param_range = [3, 5, 7, 9, 15, 20, 30]\n",
    "train_scores, test_scores = validation_curve(\n",
    "                estimator=pipe_knn, \n",
    "                X=X_train, \n",
    "                y=y_train, \n",
    "                param_name='kneighborsclassifier__n_neighbors', \n",
    "                param_range=param_range,\n",
    "                cv=10)\n",
    "\n",
    "train_mean = np.mean(train_scores, axis=1)\n",
    "train_std = np.std(train_scores, axis=1)\n",
    "test_mean = np.mean(test_scores, axis=1)\n",
    "test_std = np.std(test_scores, axis=1)\n",
    "\n",
    "plt.plot(param_range, train_mean, \n",
    "         color='darkorange', marker='o', \n",
    "         markersize=5, label='Training accuracy')\n",
    "\n",
    "plt.fill_between(param_range, train_mean + train_std,\n",
    "                 train_mean - train_std, alpha=0.15,\n",
    "                 color='darkorange')\n",
    "\n",
    "plt.plot(param_range, test_mean, \n",
    "         color='navy', linestyle='--', \n",
    "         marker='s', markersize=5, \n",
    "         label='Validation accuracy')\n",
    "\n",
    "plt.fill_between(param_range, \n",
    "                 test_mean + test_std,\n",
    "                 test_mean - test_std, \n",
    "                 alpha=0.15, color='navy')\n",
    "\n",
    "plt.grid()\n",
    "plt.title(\"Validation Curve with KNN\")\n",
    "plt.legend(loc='lower right')\n",
    "plt.xlabel('Parameter k')\n",
    "plt.ylabel('Accuracy')\n",
    "plt.ylim([0.8, 1.0])\n",
    "plt.tight_layout()\n",
    "plt.show()\n",
    "\n",
    "\n",
    "\n",
    "\n"
   ]
  },
  {
   "cell_type": "code",
   "execution_count": 16,
   "metadata": {},
   "outputs": [
    {
     "name": "stdout",
     "output_type": "stream",
     "text": [
      "0.9694202898550724\n",
      "{'kneighborsclassifier__n_neighbors': 5}\n",
      "Test accuracy: 0.965\n"
     ]
    }
   ],
   "source": [
    "# Hyperparameter tuning via grid search\n",
    "\n",
    "from sklearn.model_selection import GridSearchCV\n",
    "\n",
    "param_range = [3, 5, 7, 9, 15, 20, 30]\n",
    "\n",
    "pipe_knn = make_pipeline(StandardScaler(),\n",
    "                         KNeighborsClassifier())\n",
    "\n",
    "param_grid = [{'kneighborsclassifier__n_neighbors': param_range}]\n",
    "\n",
    "\n",
    "gs = GridSearchCV(estimator=pipe_knn,\n",
    "                  param_grid=param_grid,\n",
    "                  scoring='accuracy',\n",
    "                  cv=10,\n",
    "                  n_jobs=-1)\n",
    "\n",
    "\n",
    "gs = gs.fit(X_train, y_train)\n",
    "print(gs.best_score_)\n",
    "print(gs.best_params_)\n",
    "\n",
    "clf = gs.best_estimator_\n",
    "\n",
    "print('Test accuracy: %.3f' % clf.score(X_test, y_test))"
   ]
  },
  {
   "cell_type": "code",
   "execution_count": null,
   "metadata": {},
   "outputs": [],
   "source": []
  }
 ],
 "metadata": {
  "kernelspec": {
   "display_name": "Python 3",
   "language": "python",
   "name": "python3"
  },
  "language_info": {
   "codemirror_mode": {
    "name": "ipython",
    "version": 3
   },
   "file_extension": ".py",
   "mimetype": "text/x-python",
   "name": "python",
   "nbconvert_exporter": "python",
   "pygments_lexer": "ipython3",
   "version": "3.7.1"
  }
 },
 "nbformat": 4,
 "nbformat_minor": 4
}
