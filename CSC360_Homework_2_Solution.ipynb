{
 "cells": [
  {
   "cell_type": "markdown",
   "metadata": {},
   "source": [
    "# CSC360: Homework 2\n",
    "\n",
    "CSC360: Machine Learning and Pattern Recognition\n",
    "Instructor: Ellie Sherafat (sherafate@easternct.edu)\n",
    "\n",
    "---\n",
    "\n",
    "**Due**: Dec 08, 11:59 PM\n",
    "\n",
    "\n",
    "**How to submit**: Create a zip folder named \"Midterm_your name\". Include the `.ipynb` file with your answers plus its `.html` file as a backup. \n",
    "\n",
    "\n",
    "**Your questions**: \n",
    "\n",
    "1- If you have a question for me, post it under the \"Questions for the Professor\" forum. Any post is visible to your classmates, and they may benefit as well. \n",
    "\n",
    "2- Collaboration is allowed but everyone should submit individually\n",
    "\n",
    "\n",
    "**Important**:\n",
    "- The places that require your code answer are marked with `\"# YOUR CODE\"` comments.\n",
    "- Please do not procrastinate! Reach out to your study group member and start working on the questions as soon as you can.\n",
    "\n",
    "Good Luck!\n",
    "\n",
    "---\n",
    "\n",
    "## Name:[Enter your name here]\n",
    "\n",
    "---"
   ]
  },
  {
   "attachments": {},
   "cell_type": "markdown",
   "metadata": {},
   "source": [
    "## 1) Dimensionality Reduction\n",
    "\n",
    "The curse of dimensionality is an issue for many applications; increasing the number of features will not always improve classification accuracy. Dimensionality reduction techniques can help with the issue. The goal is to choose an optimum set of features of lower dimensionality to improve classification accuracy. These techniques fall into two major categories: \n",
    "<br> **Feature selection:** chooses a subset of the original features\n",
    "<br> **Feature extraction:** finds a set of new features (i.e., through some mapping f()) from the existing features\n",
    "\n",
    "<br> **Principle Component Analysis (PCA)** is a feature extraction technique that can be used to both compression (reduce the memory needed to store the data, speed up learning algorithm) and visualization. \n"
   ]
  },
  {
   "cell_type": "markdown",
   "metadata": {},
   "source": [
    "### 1-1) PCA for visualization\n",
    "You can think of principle components as new features, which are linear combinations of the original features. They capture most variances in the data. \n",
    "<br><br> Complete the code in this section and run it."
   ]
  },
  {
   "cell_type": "code",
   "execution_count": 1,
   "metadata": {},
   "outputs": [
    {
     "name": "stdout",
     "output_type": "stream",
     "text": [
      "array([[1.799e+01, 1.038e+01, 1.228e+02, 1.001e+03, 1.184e-01, 2.776e-01,\n",
      "        3.001e-01, 1.471e-01, 2.419e-01, 7.871e-02, 1.095e+00, 9.053e-01,\n",
      "        8.589e+00, 1.534e+02, 6.399e-03, 4.904e-02, 5.373e-02, 1.587e-02,\n",
      "        3.003e-02, 6.193e-03, 2.538e+01, 1.733e+01, 1.846e+02, 2.019e+03,\n",
      "        1.622e-01, 6.656e-01, 7.119e-01, 2.654e-01, 4.601e-01, 1.189e-01],\n",
      "       [2.057e+01, 1.777e+01, 1.329e+02, 1.326e+03, 8.474e-02, 7.864e-02,\n",
      "        8.690e-02, 7.017e-02, 1.812e-01, 5.667e-02, 5.435e-01, 7.339e-01,\n",
      "        3.398e+00, 7.408e+01, 5.225e-03, 1.308e-02, 1.860e-02, 1.340e-02,\n",
      "        1.389e-02, 3.532e-03, 2.499e+01, 2.341e+01, 1.588e+02, 1.956e+03,\n",
      "        1.238e-01, 1.866e-01, 2.416e-01, 1.860e-01, 2.750e-01, 8.902e-02]])\n",
      "\n",
      "Data shape: (569, 30)\n",
      "\n",
      "array([0, 0])\n",
      "\n",
      "Labels shape: (569,)\n",
      "\n",
      "['malignant', 'benign']\n",
      "\n",
      "Malignant shape: (212, 30)\n",
      "\n",
      "Benign shape: (357, 30)\n",
      "\n"
     ]
    }
   ],
   "source": [
    "from sklearn.datasets import load_breast_cancer\n",
    "from sklearn.decomposition import PCA\n",
    "import pandas as pd\n",
    "import numpy as np\n",
    "bc = load_breast_cancer()\n",
    "\n",
    "# Look at only two first data points\n",
    "print('{}\\n'.format(repr(bc.data[:2])))\n",
    "print('Data shape: {}\\n'.format(bc.data.shape))\n",
    "\n",
    "# Class labels\n",
    "print('{}\\n'.format(repr(bc.target[:2])))\n",
    "print('Labels shape: {}\\n'.format(bc.target.shape))\n",
    "\n",
    "# Label names\n",
    "print('{}\\n'.format(list(bc.target_names)))\n",
    "\n",
    "malignant = bc.data[bc.target == 0]\n",
    "print('Malignant shape: {}\\n'.format(malignant.shape))\n",
    "\n",
    "benign = bc.data[bc.target == 1]\n",
    "print('Benign shape: {}\\n'.format(benign.shape))\n"
   ]
  },
  {
   "cell_type": "code",
   "execution_count": 2,
   "metadata": {},
   "outputs": [],
   "source": [
    "# Apply PCA\n",
    "X,y = bc.data, bc.target\n",
    "pca_obj = PCA(n_components=2)\n",
    "component_data = pca_obj.fit_transform(X)"
   ]
  },
  {
   "cell_type": "code",
   "execution_count": 3,
   "metadata": {},
   "outputs": [
    {
     "data": {
      "image/png": "[encoded data removed]",
      "text/plain": [
       "<Figure size 432x288 with 1 Axes>"
      ]
     },
     "metadata": {
      "needs_background": "light"
     },
     "output_type": "display_data"
    }
   ],
   "source": [
    "# Visualize using PCA\n",
    "import matplotlib.pyplot as plt\n",
    "%matplotlib inline\n",
    "\n",
    "for lab, m in zip((0, 1),('s', 'o')):\n",
    "    plt.scatter(component_data[y==lab, 0], # 1st principle component\n",
    "                component_data[y==lab, 1], # 2nd principle component\n",
    "                label=lab,\n",
    "                marker=m)\n",
    "plt.xlabel('Principal Component 1')\n",
    "plt.ylabel('Principal Component 2')\n",
    "# YOUR CODE ---> Add legend to the plot\n",
    "# YOUR CODE ---> Add title \"Breast Cancer Dataset PCA Plot\"\n",
    "plt.show()"
   ]
  },
  {
   "cell_type": "markdown",
   "metadata": {},
   "source": [
    "### 1-2) PCA in a pipeline\n",
    "\n",
    "Run the following codes. Does adding PCA to the pipeline reduce overfitting in this dataset?"
   ]
  },
  {
   "cell_type": "code",
   "execution_count": 4,
   "metadata": {},
   "outputs": [
    {
     "name": "stdout",
     "output_type": "stream",
     "text": [
      "Dimensions: 178 x 13\n",
      "\n",
      "Header: ['alcohol', 'malic acid', 'ash', 'ash alcalinity', 'magnesium', 'total phenols', 'flavanoids', 'nonflavanoid phenols', 'proanthocyanins', 'color intensity', 'hue', 'OD280/OD315 of diluted wines', 'proline']\n",
      "\n",
      "Classes: [0 1 2]\n",
      "Class distribution: [59 71 48]\n"
     ]
    }
   ],
   "source": [
    "from sklearn.pipeline import make_pipeline\n",
    "from sklearn.neighbors import KNeighborsClassifier\n",
    "from sklearn.preprocessing import StandardScaler\n",
    "from sklearn.model_selection import train_test_split\n",
    "from sklearn.decomposition import PCA\n",
    "import pandas as pd\n",
    "import numpy as np\n",
    "\n",
    "dataset = pd.read_csv('Wine.csv')\n",
    "X = dataset.drop('Wine', axis =1)\n",
    "y = dataset['Wine']\n",
    "dataset.head()\n",
    "\n",
    "print('Dimensions: %s x %s' % (X.shape[0], X.shape[1]))\n",
    "print('\\nHeader: %s' % ['alcohol', 'malic acid', 'ash', 'ash alcalinity',\n",
    "                        'magnesium', 'total phenols', 'flavanoids',\n",
    "                        'nonflavanoid phenols', 'proanthocyanins',\n",
    "                        'color intensity', 'hue', 'OD280/OD315 of diluted wines',\n",
    "                        'proline'])\n",
    "\n",
    "print('\\nClasses: %s' % np.unique(y))\n",
    "print('Class distribution: %s' % np.bincount(y))"
   ]
  },
  {
   "cell_type": "code",
   "execution_count": 5,
   "metadata": {},
   "outputs": [
    {
     "name": "stdout",
     "output_type": "stream",
     "text": [
      "Orig. training accyracy: 99.19%\n",
      "Orig. test accyracy: 92.59%\n"
     ]
    }
   ],
   "source": [
    "X_train, X_test, y_train, y_test = train_test_split(X, y, random_state=123, test_size=0.3, stratify=y)\n",
    "\n",
    "pipe = make_pipeline(StandardScaler(),\n",
    "                     KNeighborsClassifier(n_neighbors=5))\n",
    "\n",
    "pipe.fit(X_train, y_train)\n",
    "\n",
    "print('Orig. training accyracy: %.2f%%' % (pipe.score(X_train, y_train)*100))\n",
    "print('Orig. test accyracy: %.2f%%' % (pipe.score(X_test, y_test)*100))"
   ]
  },
  {
   "cell_type": "code",
   "execution_count": 6,
   "metadata": {},
   "outputs": [
    {
     "name": "stdout",
     "output_type": "stream",
     "text": [
      "Transf. training accyracy: 96.77%\n",
      "Transf. test accyracy: 96.30%\n"
     ]
    }
   ],
   "source": [
    "pipe_pca = make_pipeline(StandardScaler(),\n",
    "                         PCA(n_components=3),\n",
    "                         KNeighborsClassifier(n_neighbors=5))\n",
    "\n",
    "pipe_pca.fit(X_train, y_train)\n",
    "\n",
    "\n",
    "print('Transf. training accyracy: %.2f%%' % (pipe_pca.score(X_train, y_train)*100))\n",
    "print('Transf. test accyracy: %.2f%%' % (pipe_pca.score(X_test, y_test)*100))"
   ]
  },
  {
   "cell_type": "markdown",
   "metadata": {},
   "source": [
    "## 2) Random Forests\n",
    "One of the random forests output is **feature importance**. It gives you a notion of how much each feature contributes to the decision. You can use the feature importance information to (1) interpret your model and get more insight, or (2) you can use it as a feature selection method. How? Re-run your model with a subset of features that pass a certain threshold.\n",
    "\n",
    "<br> 1) Run the code. Which feature is the most important one?\n",
    "<br> 2) Set the feature selection's threshold equal to \"1.25*median\". How many features will be selected?\n",
    "<br> 3) Does the performance improve using the reduced set of features?"
   ]
  },
  {
   "cell_type": "code",
   "execution_count": 7,
   "metadata": {},
   "outputs": [
    {
     "name": "stdout",
     "output_type": "stream",
     "text": [
      "6 selected features\n",
      "['Alcohol', 'Flavanoids', 'Color.int', 'Hue', 'OD', 'Proline']\n"
     ]
    }
   ],
   "source": [
    "from sklearn.feature_selection import SelectFromModel\n",
    "from sklearn.ensemble import RandomForestClassifier\n",
    "\n",
    "embeded_rf_selector = SelectFromModel(RandomForestClassifier(n_estimators=100,random_state=123), threshold='1.25*median')\n",
    "embeded_rf_selector.fit(X, y)\n",
    "\n",
    "embeded_rf_support = embeded_rf_selector.get_support() # Get a mask, or integer index, of the features selected\n",
    "embeded_rf_feature = X.loc[:,embeded_rf_support].columns.tolist()\n",
    "print(str(len(embeded_rf_feature)), 'selected features')\n",
    "print(embeded_rf_feature)"
   ]
  },
  {
   "cell_type": "code",
   "execution_count": 8,
   "metadata": {},
   "outputs": [
    {
     "name": "stdout",
     "output_type": "stream",
     "text": [
      "Orig. training accyracy: 99.19%\n",
      "Orig. test accyracy: 98.15%\n"
     ]
    }
   ],
   "source": [
    "X_transform = embeded_rf_selector.transform(X)\n",
    "\n",
    "X_train, X_test, y_train, y_test = train_test_split(X_transform, y, random_state=123, test_size=0.3, stratify=y)\n",
    "\n",
    "pipe = make_pipeline(StandardScaler(),\n",
    "                     KNeighborsClassifier(n_neighbors=5))\n",
    "\n",
    "pipe.fit(X_train, y_train)\n",
    "\n",
    "print('Orig. training accyracy: %.2f%%' % (pipe.score(X_train, y_train)*100))\n",
    "print('Orig. test accyracy: %.2f%%' % (pipe.score(X_test, y_test)*100))"
   ]
  },
  {
   "cell_type": "code",
   "execution_count": 9,
   "metadata": {},
   "outputs": [
    {
     "name": "stdout",
     "output_type": "stream",
     "text": [
      "Alcohol                 0.109683\n",
      "Malic.acid              0.032723\n",
      "Ash                     0.012273\n",
      "Acl                     0.029420\n",
      "Mg                      0.028791\n",
      "Phenols                 0.057904\n",
      "Flavanoids              0.133867\n",
      "Nonflavanoid.phenols    0.008221\n",
      "Proanth                 0.027035\n",
      "Color.int               0.158535\n",
      "Hue                     0.076407\n",
      "OD                      0.138427\n",
      "Proline                 0.186715\n",
      "dtype: float64\n"
     ]
    },
    {
     "data": {
      "text/plain": [
       "<AxesSubplot:>"
      ]
     },
     "execution_count": 9,
     "metadata": {},
     "output_type": "execute_result"
    },
    {
     "data": {
      "image/png": "[encoded data removed]",
      "text/plain": [
       "<Figure size 504x432 with 1 Axes>"
      ]
     },
     "metadata": {
      "needs_background": "light"
     },
     "output_type": "display_data"
    }
   ],
   "source": [
    "feature_importances = pd.Series(embeded_rf_selector.estimator_.feature_importances_, index=X.columns)\n",
    "print(feature_importances)\n",
    "feature_importances.sort_values(inplace=True)\n",
    "feature_importances.plot(kind='barh', figsize=(7,6))"
   ]
  },
  {
   "cell_type": "code",
   "execution_count": null,
   "metadata": {},
   "outputs": [],
   "source": []
  }
 ],
 "metadata": {
  "kernelspec": {
   "display_name": "Python 3",
   "language": "python",
   "name": "python3"
  },
  "language_info": {
   "codemirror_mode": {
    "name": "ipython",
    "version": 3
   },
   "file_extension": ".py",
   "mimetype": "text/x-python",
   "name": "python",
   "nbconvert_exporter": "python",
   "pygments_lexer": "ipython3",
   "version": "3.7.1"
  }
 },
 "nbformat": 4,
 "nbformat_minor": 4
}
